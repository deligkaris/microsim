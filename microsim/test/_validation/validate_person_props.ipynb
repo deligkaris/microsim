{
 "cells": [
  {
   "cell_type": "code",
   "execution_count": null,
   "metadata": {},
   "outputs": [],
   "source": [
    "%load_ext autoreload\n",
    "%autoreload 2"
   ]
  },
  {
   "cell_type": "code",
   "execution_count": null,
   "metadata": {},
   "outputs": [],
   "source": [
    "from collections import defaultdict\n",
    "from math import isclose\n",
    "import secrets\n",
    "from pprint import pprint\n",
    "import numpy as np\n",
    "import pandas as pd\n",
    "import scipy\n",
    "from microsim.test._validation.fixture import StorePopulationValidationFixture\n",
    "from microsim.test._validation.helper import person_obj_to_person_record"
   ]
  },
  {
   "cell_type": "code",
   "execution_count": null,
   "metadata": {
    "tags": [
     "parameters"
    ]
   },
   "outputs": [],
   "source": [
    "num_persons = 1000\n",
    "nhanes_year = 2013\n",
    "num_populations = 1\n",
    "num_advances = 10\n",
    "all_load_seeds = [secrets.randbits(32) for _ in range(num_populations)]\n",
    "all_advance_seeds = [secrets.randbits(32) for _ in range(num_advances)]"
   ]
  },
  {
   "cell_type": "code",
   "execution_count": null,
   "metadata": {},
   "outputs": [],
   "source": [
    "exactly_eq_props = [\n",
    "    \"gender\",\n",
    "    \"raceEthnicity\",\n",
    "    \"education\",\n",
    "    \"smokingStatus\",\n",
    "    \"gcpRandomEffect\",\n",
    "    \"otherLipidLowerMedication\",\n",
    "    \"selfReportMIAge\",\n",
    "    \"selfReportStrokeAge\",\n",
    "    \"age\",\n",
    "]\n",
    "approx_eq_props = [\n",
    "    \"sbp\",\n",
    "    \"dbp\",\n",
    "    \"a1c\",\n",
    "    \"hdl\",\n",
    "    \"trig\",\n",
    "    \"totChol\",\n",
    "    \"bmi\",\n",
    "    \"waist\",\n",
    "]\n",
    "statistically_eq_props = [\n",
    "    \"antiHypertensiveCount\",\n",
    "    \"statin\",\n",
    "    \"bpMedsAdded\",\n",
    "    \"afib\",\n",
    "    \"qalys\"\n",
    "    \"anyPhysicalActivity\",\n",
    "    \"alcoholPerWeek\",\n",
    "]\n",
    "\n",
    "def diff_exactly_eq_props(vec_rec, store_rec):\n",
    "    diffs = {}\n",
    "    for prop_name in exactly_eq_props:\n",
    "        vec_val = getattr(vec_rec, prop_name)\n",
    "        store_val = getattr(store_rec, prop_name)\n",
    "        if not (vec_val == store_val):\n",
    "            diffs[prop_name] = (vec_val, store_val)\n",
    "    return diffs\n",
    "\n",
    "def diff_approx_eq_props(vec_rec, store_rec):\n",
    "    diffs = {}\n",
    "    for prop_name in approx_eq_props:\n",
    "        vec_val = getattr(vec_rec, prop_name)\n",
    "        store_val = getattr(store_rec, prop_name)\n",
    "        if not isclose(vec_val, store_val):\n",
    "            diffs[prop_name] = (vec_val, store_val)\n",
    "    return diffs\n",
    "\n",
    "def diff_person_props(vec_rec, store_rec):\n",
    "    person_diffs = {}\n",
    "\n",
    "    eq_diffs = diff_exactly_eq_props(vec_rec, store_rec)\n",
    "    if eq_diffs:\n",
    "        person_diffs['eq'] = eq_diffs\n",
    "\n",
    "    approx_eq_diffs = diff_approx_eq_props(vec_rec, store_rec)\n",
    "    if approx_eq_diffs:\n",
    "        person_diffs['approx_eq'] = approx_eq_diffs\n",
    "    \n",
    "    return person_diffs\n",
    "\n",
    "def diff_statistically_eq_props(vec_records, store_records):\n",
    "    pass\n",
    "\n",
    "def get_all_person_diffs(vec_rec, store_rec):\n",
    "    pass"
   ]
  },
  {
   "cell_type": "code",
   "execution_count": null,
   "metadata": {},
   "outputs": [],
   "source": [
    "people_by_seeds = [[] for _ in all_load_seeds]\n",
    "fixture = StorePopulationValidationFixture()\n",
    "for load_seed, results in zip(all_load_seeds, people_by_seeds):\n",
    "    fixture._loader_seed = load_seed\n",
    "    fixture._person_records = fixture.get_or_init_person_records(num_persons, nhanes_year)\n",
    "\n",
    "    for advance_seed in all_advance_seeds:\n",
    "        fixture.setUp()\n",
    "        np.random.seed(advance_seed)\n",
    "\n",
    "        fixture.store_pop.advance()\n",
    "        fixture.vec_pop.advance_vectorized(years=1)\n",
    "        results.append((fixture.store_pop.person_store, fixture.vec_pop._people))"
   ]
  },
  {
   "cell_type": "code",
   "execution_count": null,
   "metadata": {},
   "outputs": [],
   "source": [
    "# get person diffs\n",
    "for i, results_by_load_seed in enumerate(people_by_seeds):\n",
    "    for j, (person_store, vec_people) in enumerate(results_by_load_seed):\n",
    "        vec_records = [person_obj_to_person_record(p, 1) for p in vec_people]\n",
    "        store_records = [r.next for r in person_store.get_population_at(t=0)]\n",
    "\n",
    "        all_person_diffs = []\n",
    "        for k, (vec_rec, store_rec) in enumerate(zip(vec_records, store_records)):\n",
    "            cur_person_diffs = diff_person_props(vec_rec, store_rec)\n",
    "            if cur_person_diffs:\n",
    "                all_person_diffs.append((k, cur_person_diffs))\n",
    "        if all_person_diffs:\n",
    "            pprint(all_person_diffs)\n",
    "        assert not all_person_diffs"
   ]
  }
 ],
 "metadata": {
  "kernelspec": {
   "display_name": "Python 3",
   "language": "python",
   "name": "python3"
  },
  "language_info": {
   "codemirror_mode": {
    "name": "ipython",
    "version": 3
   },
   "file_extension": ".py",
   "mimetype": "text/x-python",
   "name": "python",
   "nbconvert_exporter": "python",
   "pygments_lexer": "ipython3",
   "version": "3.7.10"
  }
 },
 "nbformat": 4,
 "nbformat_minor": 2
}
